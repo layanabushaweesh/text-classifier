{
 "cells": [
  {
   "cell_type": "code",
   "execution_count": 1,
   "id": "5e89a933-157b-4525-b24b-0479ce0a793c",
   "metadata": {},
   "outputs": [],
   "source": [
    "import pandas as pd\n"
   ]
  },
  {
   "cell_type": "code",
   "execution_count": 2,
   "id": "a9b58339-74c4-479d-9fd1-bee6f814bbf9",
   "metadata": {},
   "outputs": [],
   "source": [
    "from sklearn.feature_extraction.text import CountVectorizer"
   ]
  },
  {
   "cell_type": "code",
   "execution_count": 3,
   "id": "34c9cd98-2ebf-49b6-a325-1aee3bda7cef",
   "metadata": {},
   "outputs": [],
   "source": [
    "from sklearn.model_selection import train_test_split"
   ]
  },
  {
   "cell_type": "code",
   "execution_count": 4,
   "id": "090f06e1-5fbc-4417-8c34-db81a215a652",
   "metadata": {},
   "outputs": [],
   "source": [
    "from sklearn.feature_extraction.text import CountVectorizer"
   ]
  },
  {
   "cell_type": "code",
   "execution_count": 5,
   "id": "6a3e4240-a69c-42ae-8d34-922f689e4701",
   "metadata": {},
   "outputs": [],
   "source": [
    "from sklearn.linear_model import LogisticRegression"
   ]
  },
  {
   "cell_type": "code",
   "execution_count": 7,
   "id": "9495023b-bc2d-4d25-9fd0-49ceab20d710",
   "metadata": {},
   "outputs": [
    {
     "name": "stdout",
     "output_type": "stream",
     "text": [
      "sentence    So there is no way for me to plug it in here i...\n",
      "label                                                       0\n",
      "source                                                 amazon\n",
      "Name: 0, dtype: object\n",
      "sentence    So there is no way for me to plug it in here i...\n",
      "label                                                       0\n",
      "source                                                 amazon\n",
      "Name: 0, dtype: object\n",
      "sentence    So there is no way for me to plug it in here i...\n",
      "label                                                       0\n",
      "source                                                 amazon\n",
      "Name: 0, dtype: object\n"
     ]
    }
   ],
   "source": [
    "filepath_dict = {\n",
    "                 'amazon': 'data/amazon_cells_labelled.txt',\n",
    "                 'yelp':   'data/yelp_labelled.txt',\n",
    "                 'imdb':   'data/imdb_labelled.txt'\n",
    "}\n",
    "df_list=[]\n",
    "for source,filepath in filepath_dict.items():\n",
    "        df=pd.read_csv(filepath ,names=['sentence', 'label'], sep='\\t')\n",
    "     # Add another column filled with the source name\n",
    "        df['source']=source\n",
    "        df_list.append(df)\n",
    "        \n",
    "        df=pd.concat(df_list)\n",
    "        print(df.iloc[0])\n"
   ]
  },
  {
   "cell_type": "code",
   "execution_count": 8,
   "id": "970d7c3b-6152-479d-99f4-7ed3516dabcd",
   "metadata": {},
   "outputs": [
    {
     "data": {
      "text/plain": [
       "sentence    Wow... Loved this place.\n",
       "label                              1\n",
       "source                          yelp\n",
       "Name: 0, dtype: object"
      ]
     },
     "execution_count": 8,
     "metadata": {},
     "output_type": "execute_result"
    }
   ],
   "source": [
    "df.iloc[1000]"
   ]
  },
  {
   "cell_type": "code",
   "execution_count": 9,
   "id": "d3822f08-1647-44e3-b03a-51c1823be8c2",
   "metadata": {},
   "outputs": [
    {
     "data": {
      "text/plain": [
       "sentence    I also had to taste my Mom's multi-grain pumpk...\n",
       "label                                                       1\n",
       "source                                                   yelp\n",
       "Name: 500, dtype: object"
      ]
     },
     "execution_count": 9,
     "metadata": {},
     "output_type": "execute_result"
    }
   ],
   "source": [
    "df.iloc[1500]"
   ]
  },
  {
   "cell_type": "code",
   "execution_count": 10,
   "id": "d80453f0-2118-4080-a7f2-6878d3ff3668",
   "metadata": {},
   "outputs": [],
   "source": [
    " sentences = ['John likes ice cream', 'John hates chocolate.']"
   ]
  },
  {
   "cell_type": "code",
   "execution_count": 12,
   "id": "47aa3ec6-6c07-4476-ab03-3a628c746072",
   "metadata": {},
   "outputs": [
    {
     "data": {
      "text/plain": [
       "{'John': 0, 'likes': 5, 'ice': 4, 'cream': 2, 'hates': 3, 'chocolate': 1}"
      ]
     },
     "execution_count": 12,
     "metadata": {},
     "output_type": "execute_result"
    }
   ],
   "source": [
    "vectorizer=CountVectorizer(min_df=0,lowercase=False)\n",
    "vectorizer.fit(sentences)\n",
    "vectorizer.vocabulary_"
   ]
  },
  {
   "cell_type": "code",
   "execution_count": 15,
   "id": "1a40344e-fffe-4164-adab-54e77dd8df02",
   "metadata": {},
   "outputs": [
    {
     "data": {
      "text/plain": [
       "array([[1, 0, 1, 0, 1, 1],\n",
       "       [1, 1, 0, 1, 0, 0]])"
      ]
     },
     "execution_count": 15,
     "metadata": {},
     "output_type": "execute_result"
    }
   ],
   "source": [
    "vectorizer.transform(sentences).toarray()"
   ]
  },
  {
   "cell_type": "code",
   "execution_count": 17,
   "id": "3a03c4c6-be9b-4c3e-b548-45c3275a61c1",
   "metadata": {},
   "outputs": [],
   "source": [
    "#Defining a Baseline Model\n",
    "#for yelp\n",
    "df_yelp=df[df['source'] == 'yelp']\n"
   ]
  },
  {
   "cell_type": "code",
   "execution_count": 19,
   "id": "77e13298-c821-454f-803b-ea777fa5084d",
   "metadata": {},
   "outputs": [],
   "source": [
    "sentences=df_yelp['sentence'].values"
   ]
  },
  {
   "cell_type": "code",
   "execution_count": 21,
   "id": "972fd9e1-7f3c-4474-bdf0-da2951afd94a",
   "metadata": {},
   "outputs": [],
   "source": [
    "y=df_yelp['label'].values\n"
   ]
  },
  {
   "cell_type": "code",
   "execution_count": 22,
   "id": "9ea36f59-871e-4898-a2c3-aacb6965908a",
   "metadata": {},
   "outputs": [],
   "source": [
    "sentences_train, sentences_test, y_train, y_test = train_test_split(sentences, y, test_size=0.25, random_state=1000)\n"
   ]
  },
  {
   "cell_type": "code",
   "execution_count": 23,
   "id": "958d4d52-17b1-40df-8c22-974b4bc3540e",
   "metadata": {},
   "outputs": [],
   "source": [
    "vectorizer=CountVectorizer()"
   ]
  },
  {
   "cell_type": "code",
   "execution_count": 24,
   "id": "8c2f38fc-6de3-4504-881a-3599200d65b5",
   "metadata": {},
   "outputs": [
    {
     "data": {
      "text/plain": [
       "CountVectorizer()"
      ]
     },
     "execution_count": 24,
     "metadata": {},
     "output_type": "execute_result"
    }
   ],
   "source": [
    "vectorizer.fit(sentences_train)"
   ]
  },
  {
   "cell_type": "code",
   "execution_count": 25,
   "id": "877a9652-49fc-46aa-a7a6-4cc1d3f8f149",
   "metadata": {},
   "outputs": [
    {
     "data": {
      "text/plain": [
       "<750x1714 sparse matrix of type '<class 'numpy.int64'>'\n",
       "\twith 7368 stored elements in Compressed Sparse Row format>"
      ]
     },
     "execution_count": 25,
     "metadata": {},
     "output_type": "execute_result"
    }
   ],
   "source": [
    "X_train=vectorizer.transform(sentences_train)\n",
    "X_test=vectorizer.transform(sentences_test)\n",
    "X_train"
   ]
  },
  {
   "cell_type": "code",
   "execution_count": 26,
   "id": "f1feaea5-8937-4a59-842e-c0beff962719",
   "metadata": {},
   "outputs": [
    {
     "data": {
      "text/plain": [
       "<250x1714 sparse matrix of type '<class 'numpy.int64'>'\n",
       "\twith 2069 stored elements in Compressed Sparse Row format>"
      ]
     },
     "execution_count": 26,
     "metadata": {},
     "output_type": "execute_result"
    }
   ],
   "source": [
    "X_test"
   ]
  },
  {
   "cell_type": "code",
   "execution_count": 27,
   "id": "5cbe3c4c-f856-4451-ac00-404001c0a649",
   "metadata": {},
   "outputs": [],
   "source": [
    "classifier=LogisticRegression()"
   ]
  },
  {
   "cell_type": "code",
   "execution_count": 28,
   "id": "608fa36d-c1f5-47ac-87bf-501bab05e49b",
   "metadata": {},
   "outputs": [
    {
     "data": {
      "text/plain": [
       "LogisticRegression()"
      ]
     },
     "execution_count": 28,
     "metadata": {},
     "output_type": "execute_result"
    }
   ],
   "source": [
    "classifier.fit(X_train,y_train)"
   ]
  },
  {
   "cell_type": "code",
   "execution_count": 30,
   "id": "36e10e11-8630-40e6-8df1-d99d22bc547d",
   "metadata": {},
   "outputs": [
    {
     "name": "stdout",
     "output_type": "stream",
     "text": [
      "accuracy = 0.796\n"
     ]
    }
   ],
   "source": [
    "score=classifier.score(X_test,y_test)\n",
    "print(\"accuracy =\",score)"
   ]
  },
  {
   "cell_type": "code",
   "execution_count": null,
   "id": "5daf7781-85a5-406b-b328-d1a99c9c516b",
   "metadata": {},
   "outputs": [],
   "source": []
  },
  {
   "cell_type": "code",
   "execution_count": 35,
   "id": "e5058087-2d04-4c2a-a327-6151d0ac0dfd",
   "metadata": {},
   "outputs": [],
   "source": []
  },
  {
   "cell_type": "code",
   "execution_count": 44,
   "id": "38eaa98a-080f-4dcc-bb31-1eb639eb79f5",
   "metadata": {},
   "outputs": [
    {
     "name": "stdout",
     "output_type": "stream",
     "text": [
      "Accuracy for amazon data: 0.7960\n",
      "Accuracy for yelp data: 0.7960\n",
      "Accuracy for imdb data: 0.7487\n"
     ]
    }
   ],
   "source": [
    "for source in df['source'].unique():\n",
    "    df_source = df[df['source'] == source]\n",
    "    sentences = df_source['sentence'].values\n",
    "    y = df_source['label'].values\n",
    "\n",
    "    sentences_train, sentences_test, y_train, y_test = train_test_split(\n",
    "        sentences, y, test_size=0.25, random_state=1000)\n",
    "\n",
    "    vectorizer = CountVectorizer()\n",
    "    vectorizer.fit(sentences_train)\n",
    "    X_train = vectorizer.transform(sentences_train)\n",
    "    X_test  = vectorizer.transform(sentences_test)\n",
    "\n",
    "    classifier = LogisticRegression()\n",
    "    classifier.fit(X_train, y_train)\n",
    "    score = classifier.score(X_test, y_test)\n",
    "    print('Accuracy for {} data: {:.4f}'.format(source, score))"
   ]
  },
  {
   "cell_type": "code",
   "execution_count": 51,
   "id": "924721f6-f498-46fd-ba34-77233fec14c0",
   "metadata": {},
   "outputs": [
    {
     "data": {
      "text/plain": [
       "array([1, 0, 1])"
      ]
     },
     "execution_count": 51,
     "metadata": {},
     "output_type": "execute_result"
    }
   ],
   "source": [
    "#my test on yelp data\n",
    "sentences=['Highly recommended','did not like at all','The fries were great too']\n",
    "X_train=vectorizer.transform(sentences)\n",
    "X_test=vectorizer.transform(sentences)\n",
    "classifier.predict(X_test)\n"
   ]
  },
  {
   "cell_type": "code",
   "execution_count": 52,
   "id": "a4f0cdac-7686-4dd1-b59e-c9d515b7cc3c",
   "metadata": {},
   "outputs": [],
   "source": [
    "# conclusion : by using classifier we can make  the computer predict the sentences are positive or negative"
   ]
  },
  {
   "cell_type": "code",
   "execution_count": null,
   "id": "14e77242-cd2c-45bc-8766-256eaa9d967a",
   "metadata": {},
   "outputs": [],
   "source": []
  },
  {
   "cell_type": "code",
   "execution_count": null,
   "id": "a1f74e2c-44fc-4ea8-bc69-caddc9b0682d",
   "metadata": {},
   "outputs": [],
   "source": []
  },
  {
   "cell_type": "code",
   "execution_count": null,
   "id": "4399b0ac-9616-47d5-ae13-29c361eaa573",
   "metadata": {},
   "outputs": [],
   "source": []
  }
 ],
 "metadata": {
  "kernelspec": {
   "display_name": "Python 3",
   "language": "python",
   "name": "python3"
  },
  "language_info": {
   "codemirror_mode": {
    "name": "ipython",
    "version": 3
   },
   "file_extension": ".py",
   "mimetype": "text/x-python",
   "name": "python",
   "nbconvert_exporter": "python",
   "pygments_lexer": "ipython3",
   "version": "3.9.4"
  }
 },
 "nbformat": 4,
 "nbformat_minor": 5
}
